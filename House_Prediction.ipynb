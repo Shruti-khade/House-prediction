{
 "cells": [
  {
   "cell_type": "code",
   "execution_count": 1,
   "id": "ae8daef2",
   "metadata": {},
   "outputs": [],
   "source": [
    "import pandas as pd"
   ]
  },
  {
   "cell_type": "code",
   "execution_count": 2,
   "id": "30cfc59e",
   "metadata": {},
   "outputs": [],
   "source": [
    "df_train = pd.read_csv('ML_Datasets/HP_train.csv')\n",
    "df_test = pd.read_csv('ML_Datasets/HP_test.csv')"
   ]
  },
  {
   "cell_type": "code",
   "execution_count": 3,
   "id": "7eed6552",
   "metadata": {},
   "outputs": [],
   "source": [
    "columns_numeric = list(df_train.select_dtypes(exclude='object').columns)\n",
    "columns_numeric.remove('SalePrice')"
   ]
  },
  {
   "cell_type": "code",
   "execution_count": 4,
   "id": "01c3a55e",
   "metadata": {},
   "outputs": [],
   "source": [
    "columns_cat = list(df_train.select_dtypes(include='object').columns)"
   ]
  },
  {
   "cell_type": "markdown",
   "id": "b222f032",
   "metadata": {},
   "source": [
    "# Missing Data => SimpleImputer Class"
   ]
  },
  {
   "cell_type": "code",
   "execution_count": 5,
   "id": "9bff0989",
   "metadata": {},
   "outputs": [],
   "source": [
    "from sklearn.impute import SimpleImputer"
   ]
  },
  {
   "cell_type": "code",
   "execution_count": 6,
   "id": "6e5890c0",
   "metadata": {},
   "outputs": [
    {
     "data": {
      "text/plain": [
       "19"
      ]
     },
     "execution_count": 6,
     "metadata": {},
     "output_type": "execute_result"
    }
   ],
   "source": [
    "sum(df_train.isna().sum()>0)"
   ]
  },
  {
   "cell_type": "code",
   "execution_count": 7,
   "id": "fb4f85af",
   "metadata": {},
   "outputs": [],
   "source": [
    "imputer_numeric = SimpleImputer(strategy='median')\n",
    "imputer_numeric.fit(df_train[columns_numeric]) # finding out median of numeric columns\n",
    "df_train[columns_numeric] = imputer_numeric.transform(df_train[columns_numeric])"
   ]
  },
  {
   "cell_type": "code",
   "execution_count": 8,
   "id": "906093ef",
   "metadata": {},
   "outputs": [],
   "source": [
    "imputer_cat = SimpleImputer(strategy='most_frequent')\n",
    "imputer_cat.fit(df_train[columns_cat]) # finding out median of numeric columns\n",
    "df_train[columns_cat] = imputer_cat.transform(df_train[columns_cat])"
   ]
  },
  {
   "cell_type": "code",
   "execution_count": 9,
   "id": "c856c6f6",
   "metadata": {},
   "outputs": [
    {
     "data": {
      "text/plain": [
       "0"
      ]
     },
     "execution_count": 9,
     "metadata": {},
     "output_type": "execute_result"
    }
   ],
   "source": [
    "sum(df_train.isna().sum()>0)"
   ]
  },
  {
   "cell_type": "markdown",
   "id": "940c8c6f",
   "metadata": {},
   "source": [
    "# Scaling->Numeric"
   ]
  },
  {
   "cell_type": "code",
   "execution_count": 10,
   "id": "08f7c383",
   "metadata": {},
   "outputs": [],
   "source": [
    "from sklearn.preprocessing import MinMaxScaler"
   ]
  },
  {
   "cell_type": "code",
   "execution_count": 11,
   "id": "e4eb7064",
   "metadata": {},
   "outputs": [],
   "source": [
    "scaler = MinMaxScaler()\n",
    "scaler.fit(df_train[columns_numeric])\n",
    "df_train[columns_numeric] = scaler.transform(df_train[columns_numeric])"
   ]
  },
  {
   "cell_type": "markdown",
   "id": "96f43aec",
   "metadata": {},
   "source": [
    "# One Hot Encoding->categorical"
   ]
  },
  {
   "cell_type": "code",
   "execution_count": 12,
   "id": "d200ee42",
   "metadata": {},
   "outputs": [],
   "source": [
    "from sklearn.preprocessing import OneHotEncoder"
   ]
  },
  {
   "cell_type": "code",
   "execution_count": 13,
   "id": "024d0bc4",
   "metadata": {},
   "outputs": [
    {
     "data": {
      "text/plain": [
       "OneHotEncoder(handle_unknown='ignore', sparse=False)"
      ]
     },
     "execution_count": 13,
     "metadata": {},
     "output_type": "execute_result"
    }
   ],
   "source": [
    "ohe = OneHotEncoder(handle_unknown='ignore', sparse=False)\n",
    "ohe.fit(df_train[columns_cat])"
   ]
  },
  {
   "cell_type": "code",
   "execution_count": 14,
   "id": "98a99528",
   "metadata": {},
   "outputs": [
    {
     "data": {
      "text/plain": [
       "252"
      ]
     },
     "execution_count": 14,
     "metadata": {},
     "output_type": "execute_result"
    }
   ],
   "source": [
    "len(ohe.get_feature_names())"
   ]
  },
  {
   "cell_type": "code",
   "execution_count": 15,
   "id": "94e2cf74",
   "metadata": {},
   "outputs": [
    {
     "data": {
      "text/plain": [
       "array([[0., 0., 0., ..., 0., 1., 0.],\n",
       "       [0., 0., 0., ..., 0., 1., 0.],\n",
       "       [0., 0., 0., ..., 0., 1., 0.],\n",
       "       ...,\n",
       "       [0., 0., 0., ..., 0., 1., 0.],\n",
       "       [0., 0., 0., ..., 0., 1., 0.],\n",
       "       [0., 0., 0., ..., 0., 1., 0.]])"
      ]
     },
     "execution_count": 15,
     "metadata": {},
     "output_type": "execute_result"
    }
   ],
   "source": [
    "ohe.transform(df_train[columns_cat])"
   ]
  },
  {
   "cell_type": "code",
   "execution_count": 16,
   "id": "562c2632",
   "metadata": {},
   "outputs": [
    {
     "name": "stderr",
     "output_type": "stream",
     "text": [
      "C:\\Users\\Doted\\anaconda3\\lib\\site-packages\\pandas\\core\\frame.py:3678: PerformanceWarning: DataFrame is highly fragmented.  This is usually the result of calling `frame.insert` many times, which has poor performance.  Consider joining all columns at once using pd.concat(axis=1) instead.  To get a de-fragmented frame, use `newframe = frame.copy()`\n",
      "  self[col] = igetitem(value, i)\n"
     ]
    }
   ],
   "source": [
    "df_train[ohe.get_feature_names()] = ohe.transform(df_train[columns_cat])"
   ]
  },
  {
   "cell_type": "code",
   "execution_count": 17,
   "id": "04e1be1c",
   "metadata": {},
   "outputs": [
    {
     "data": {
      "text/plain": [
       "333"
      ]
     },
     "execution_count": 17,
     "metadata": {},
     "output_type": "execute_result"
    }
   ],
   "source": [
    "len(df_train.columns)"
   ]
  },
  {
   "cell_type": "markdown",
   "id": "d98aa86a",
   "metadata": {},
   "source": [
    "# Building ML model"
   ]
  },
  {
   "cell_type": "code",
   "execution_count": 18,
   "id": "01fd006e",
   "metadata": {},
   "outputs": [],
   "source": [
    "# numeric + encoded\n",
    "X_train = df_train[columns_numeric + list(ohe.get_feature_names())]\n",
    "y_train = df_train['SalePrice']"
   ]
  },
  {
   "cell_type": "code",
   "execution_count": 19,
   "id": "ad4a75e4",
   "metadata": {},
   "outputs": [],
   "source": [
    "from sklearn.ensemble import RandomForestRegressor"
   ]
  },
  {
   "cell_type": "code",
   "execution_count": 20,
   "id": "d1a21087",
   "metadata": {},
   "outputs": [
    {
     "data": {
      "text/plain": [
       "RandomForestRegressor()"
      ]
     },
     "execution_count": 20,
     "metadata": {},
     "output_type": "execute_result"
    }
   ],
   "source": [
    "model = RandomForestRegressor()\n",
    "model.fit(X_train,y_train)"
   ]
  },
  {
   "cell_type": "markdown",
   "id": "842f24df",
   "metadata": {},
   "source": [
    "# Make Predictions -> test"
   ]
  },
  {
   "cell_type": "code",
   "execution_count": 21,
   "id": "1bd1c460",
   "metadata": {},
   "outputs": [],
   "source": [
    "df_test[columns_numeric] = imputer_numeric.transform(df_test[columns_numeric])\n",
    "df_test[columns_cat] = imputer_cat.transform(df_test[columns_cat])"
   ]
  },
  {
   "cell_type": "code",
   "execution_count": 22,
   "id": "ba56fe8e",
   "metadata": {},
   "outputs": [],
   "source": [
    "df_test[columns_numeric] = scaler.transform(df_test[columns_numeric])"
   ]
  },
  {
   "cell_type": "code",
   "execution_count": 23,
   "id": "530f8088",
   "metadata": {},
   "outputs": [
    {
     "name": "stderr",
     "output_type": "stream",
     "text": [
      "C:\\Users\\Doted\\anaconda3\\lib\\site-packages\\pandas\\core\\frame.py:3678: PerformanceWarning: DataFrame is highly fragmented.  This is usually the result of calling `frame.insert` many times, which has poor performance.  Consider joining all columns at once using pd.concat(axis=1) instead.  To get a de-fragmented frame, use `newframe = frame.copy()`\n",
      "  self[col] = igetitem(value, i)\n"
     ]
    }
   ],
   "source": [
    "df_test[ohe.get_feature_names()] = ohe.transform(df_test[columns_cat])"
   ]
  },
  {
   "cell_type": "code",
   "execution_count": 24,
   "id": "45b6ec46",
   "metadata": {},
   "outputs": [],
   "source": [
    "X_test = df_test[columns_numeric + list(ohe.get_feature_names())]"
   ]
  },
  {
   "cell_type": "code",
   "execution_count": 25,
   "id": "58252444",
   "metadata": {},
   "outputs": [],
   "source": [
    "yp = model.predict(X_test)"
   ]
  },
  {
   "cell_type": "markdown",
   "id": "d5c8746a",
   "metadata": {},
   "source": [
    "# Create submission file"
   ]
  },
  {
   "cell_type": "code",
   "execution_count": 26,
   "id": "ca063a7e",
   "metadata": {},
   "outputs": [],
   "source": [
    "df_test = pd.read_csv('ML_Datasets/HP_test.csv')"
   ]
  },
  {
   "cell_type": "code",
   "execution_count": 27,
   "id": "1f813daf",
   "metadata": {},
   "outputs": [],
   "source": [
    "df_test['SalePrice'] = yp"
   ]
  },
  {
   "cell_type": "code",
   "execution_count": 28,
   "id": "bba3e31b",
   "metadata": {},
   "outputs": [],
   "source": [
    "df_test[['Id','SalePrice']].to_csv('sub1.csv',index = False)"
   ]
  }
 ],
 "metadata": {
  "kernelspec": {
   "display_name": "Python 3 (ipykernel)",
   "language": "python",
   "name": "python3"
  },
  "language_info": {
   "codemirror_mode": {
    "name": "ipython",
    "version": 3
   },
   "file_extension": ".py",
   "mimetype": "text/x-python",
   "name": "python",
   "nbconvert_exporter": "python",
   "pygments_lexer": "ipython3",
   "version": "3.9.7"
  }
 },
 "nbformat": 4,
 "nbformat_minor": 5
}
